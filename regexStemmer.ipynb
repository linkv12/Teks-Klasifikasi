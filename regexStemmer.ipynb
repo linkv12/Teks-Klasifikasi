{
 "cells": [
  {
   "cell_type": "code",
   "execution_count": 44,
   "metadata": {},
   "outputs": [],
   "source": [
    "import re"
   ]
  },
  {
   "cell_type": "code",
   "execution_count": null,
   "metadata": {},
   "outputs": [],
   "source": [
    "\"\"\"\n",
    "Identifiers:\n",
    "\n",
    "    \\d = any number\n",
    "    \\D = anything but a number\n",
    "    \\s = space\n",
    "    \\S = anything but a space\n",
    "    \\w = any letter\n",
    "    \\W = anything but a letter\n",
    "    . = any character, except for a new line\n",
    "    \\b = space around whole words\n",
    "    \\. = period. must use backslash, because . normally means any character.\n",
    "\n",
    "Modifiers:\n",
    "\n",
    "    {1,3} = for digits, u expect 1-3 counts of digits, or \"places\"\n",
    "    + = match 1 or more\n",
    "    ? = match 0 or 1 repetitions.\n",
    "    * = match 0 or MORE repetitions\n",
    "    $ = matches at the end of string\n",
    "    ^ = matches start of a string\n",
    "    | = matches either/or. Example x|y = will match either x or y\n",
    "    [] = range, or \"variance\"\n",
    "    {x} = expect to see this amount of the preceding code.\n",
    "    {x,y} = expect to see this x-y amounts of the precedng code\n",
    "\n",
    "White Space Charts:\n",
    "\n",
    "    \\n = new line\n",
    "    \\s = space\n",
    "    \\t = tab\n",
    "    \\e = escape\n",
    "    \\f = form feed\n",
    "    \\r = carriage return\n",
    "\n",
    "Characters to REMEMBER TO ESCAPE IF USED!\n",
    "\n",
    "    . + * ? [ ] $ ^ ( ) { } | \\\n",
    "\n",
    "Brackets:\n",
    "\n",
    "    [] = quant[ia]tative = will find either quantitative, or quantatative.\n",
    "    [a-z] = return any lowercase letter a-z\n",
    "    [1-5a-qA-Z] = return all numbers 1-5, lowercase letters a-q and uppercase A-Z\n",
    "\n",
    "\"\"\""
   ]
  },
  {
   "cell_type": "code",
   "execution_count": 45,
   "metadata": {},
   "outputs": [
    {
     "name": "stdout",
     "output_type": "stream",
     "text": [
      "makan\n"
     ]
    }
   ],
   "source": [
    "text = 'memakan'\n",
    "text = re.sub(r'^me?','',text)\n",
    "print(text)"
   ]
  },
  {
   "cell_type": "code",
   "execution_count": 50,
   "metadata": {},
   "outputs": [
    {
     "name": "stdout",
     "output_type": "stream",
     "text": [
      "hatikan\n"
     ]
    }
   ],
   "source": [
    "regex = r'^memper?|^me?|^ber?|^di?|^ter?|^pe?|^per?|^se?'\n",
    "text = 'memperhatikan'\n",
    "print(re.sub(regex,'', text))"
   ]
  },
  {
   "cell_type": "code",
   "execution_count": 4,
   "metadata": {},
   "outputs": [],
   "source": [
    "import pickle\n",
    "import os\n",
    "import pandas as pd"
   ]
  },
  {
   "cell_type": "code",
   "execution_count": 3,
   "metadata": {},
   "outputs": [
    {
     "name": "stdout",
     "output_type": "stream",
     "text": [
      "                                                  text  label\n",
      "0    Akan tetapi ternyata Mandor Bacan tetap tidak ...      1\n",
      "1    Malam itu Murtado sedang tidur di rumahnya. Ke...      1\n",
      "2    Ketika itu, daerah Kemayoran sedang terancam o...      1\n",
      "3    Akhirnya Bang Maman meminta bantuan Patme supa...      1\n",
      "4    Perempuan itu masuk ke bilik kamar. Sekarang s...      1\n",
      "..                                                 ...    ...\n",
      "116  Beberapa saat kemudian, Ayah dan Dita sampai d...      0\n",
      "117  “Lantas, sayuran itu akan dibawa ke kota, Yah?...      0\n",
      "118  “Kamu memang pintar, Nak. Kamu sudah paham mak...      0\n",
      "119  “Kita harus merawat tanaman sayuran tersebut d...      0\n",
      "120  Dalam hati Dita merasa bangga dengan ayahnya y...      0\n",
      "\n",
      "[121 rows x 2 columns]\n"
     ]
    }
   ],
   "source": [
    "file_pi2 = open('raw_text.df', 'rb') \n",
    "object_pi2 = pickle.load(file_pi2)\n",
    "print(object_pi2)"
   ]
  },
  {
   "cell_type": "code",
   "execution_count": 6,
   "metadata": {},
   "outputs": [
    {
     "name": "stdout",
     "output_type": "stream",
     "text": [
      "True\n",
      "True\n"
     ]
    }
   ],
   "source": [
    "print(os.path.isfile('raw_text.df')) \n",
    "print(os.path.isfile('raw_text.csv')) "
   ]
  },
  {
   "cell_type": "code",
   "execution_count": 2,
   "metadata": {},
   "outputs": [
    {
     "name": "stdout",
     "output_type": "stream",
     "text": [
      "0\n",
      "1\n",
      "2\n",
      "3\n",
      "4\n",
      "5\n",
      "6\n",
      "7\n",
      "8\n",
      "9\n"
     ]
    }
   ],
   "source": [
    "for i in range(len([0,1,2,3,4,5,6,7,8,9])) :\n",
    "    print(i)"
   ]
  }
 ],
 "metadata": {
  "kernelspec": {
   "display_name": "Python 3",
   "language": "python",
   "name": "python3"
  },
  "language_info": {
   "codemirror_mode": {
    "name": "ipython",
    "version": 3
   },
   "file_extension": ".py",
   "mimetype": "text/x-python",
   "name": "python",
   "nbconvert_exporter": "python",
   "pygments_lexer": "ipython3",
   "version": "3.7.4"
  }
 },
 "nbformat": 4,
 "nbformat_minor": 2
}
