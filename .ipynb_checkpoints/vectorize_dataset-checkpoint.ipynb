{
 "cells": [
  {
   "cell_type": "code",
   "execution_count": 9,
   "metadata": {},
   "outputs": [],
   "source": [
    "# import\n",
    "import pandas as pd\n",
    "import os\n",
    "import pickle\n",
    "import nltk\n",
    "from Sastrawi.Stemmer.StemmerFactory import StemmerFactory\n",
    "import re\n",
    "from sklearn.model_selection import train_test_split\n",
    "import random\n",
    "import numpy as np\n",
    "from sklearn.model_selection import ParameterGrid\n",
    "from tqdm import tqdm\n",
    "from sklearn.tree import DecisionTreeClassifier\n",
    "from sklearn.neighbors import KNeighborsClassifier\n",
    "from sklearn.discriminant_analysis import LinearDiscriminantAnalysis\n",
    "from sklearn.naive_bayes import GaussianNB\n",
    "from sklearn.neural_network import MLPClassifier # to make ann\n",
    "from sklearn.svm import SVC\n",
    "from sklearn.feature_extraction.text import TfidfTransformer\n",
    "from sklearn.feature_extraction.text import CountVectorizer"
   ]
  },
  {
   "cell_type": "code",
   "execution_count": 2,
   "metadata": {},
   "outputs": [],
   "source": [
    "####\n",
    "# load object to variable_ will read file\n",
    "def load_from_file(full_path) :\n",
    "    \"\"\"\n",
    "    Will load an object from file to a variable\n",
    "    \n",
    "    @variable\n",
    "     data   [obj] : a temporary container for loaded data\n",
    "    @param\n",
    "     full_path : full path to file\n",
    "                @example : D:/file.txt\n",
    "    @return \n",
    "     data   [obj] : object that will be returned\n",
    "    \n",
    "    @process\n",
    "      Directly read data from file in full_path, then load it to variable data\n",
    "    \"\"\"\n",
    "    data = None\n",
    "    with open(full_path, 'rb') as input_ :\n",
    "        data = pickle.load(input_)\n",
    "    return data\n",
    "\n",
    "def load_dataset(file_name) :\n",
    "    path    = os.getcwd()+r'/CleanDataset/'+file_name\n",
    "    dataset = load_from_file(path)\n",
    "    return dataset\n",
    "\n",
    "\n",
    "d_setName = {'vanila'        : 'dataset_vanila_2.bin',\n",
    "             'undersampling' : 'dataset_undersampling_2.bin',\n",
    "             'oversampling'  : 'dataset_oversampling_2.bin'}"
   ]
  },
  {
   "cell_type": "code",
   "execution_count": 3,
   "metadata": {},
   "outputs": [],
   "source": [
    "data_set = load_dataset(r'dataset_vanila_2.bin')"
   ]
  },
  {
   "cell_type": "code",
   "execution_count": 10,
   "metadata": {},
   "outputs": [
    {
     "data": {
      "text/plain": [
       "(96, 1094)"
      ]
     },
     "execution_count": 10,
     "metadata": {},
     "output_type": "execute_result"
    }
   ],
   "source": [
    "#print(type(data_set[0][0][0]))\n",
    "\n",
    "# expected list of str for to vectorize\n",
    "# will have to convert dataset temporary to list of str again\n",
    "count_vect = CountVectorizer()\n",
    "X_train_counts = count_vect.fit_transform(data_set[0][0])\n",
    "X_train_counts.shape\n",
    "\n",
    "tf_transformer = TfidfTransformer(use_idf=False).fit(X_train_counts)\\\n",
    "X_train_tf = tf_transformer.transform(X_train_counts)\n",
    "\n"
   ]
  },
  {
   "cell_type": "code",
   "execution_count": 5,
   "metadata": {},
   "outputs": [
    {
     "name": "stdout",
     "output_type": "stream",
     "text": [
      "test 1 2 3\n"
     ]
    }
   ],
   "source": []
  }
 ],
 "metadata": {
  "kernelspec": {
   "display_name": "Python 3",
   "language": "python",
   "name": "python3"
  },
  "language_info": {
   "codemirror_mode": {
    "name": "ipython",
    "version": 3
   },
   "file_extension": ".py",
   "mimetype": "text/x-python",
   "name": "python",
   "nbconvert_exporter": "python",
   "pygments_lexer": "ipython3",
   "version": "3.7.4"
  }
 },
 "nbformat": 4,
 "nbformat_minor": 2
}
